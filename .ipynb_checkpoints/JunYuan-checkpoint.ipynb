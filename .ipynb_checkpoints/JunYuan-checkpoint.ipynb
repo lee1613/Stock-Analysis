{
 "cells": [
  {
   "cell_type": "code",
   "execution_count": 1,
   "metadata": {
    "executionInfo": {
     "elapsed": 309,
     "status": "ok",
     "timestamp": 1726840769039,
     "user": {
      "displayName": "Jun Yuan",
      "userId": "07829413783992522382"
     },
     "user_tz": -480
    },
    "id": "KkGtKd7nZqMF"
   },
   "outputs": [],
   "source": [
    "import numpy as np\n",
    "import pandas as pd\n",
    "import matplotlib.pyplot as plt\n",
    "import os\n",
    "from datetime import datetime"
   ]
  },
  {
   "cell_type": "code",
   "execution_count": 2,
   "metadata": {
    "colab": {
     "base_uri": "https://localhost:8080/"
    },
    "executionInfo": {
     "elapsed": 34140,
     "status": "ok",
     "timestamp": 1726839266938,
     "user": {
      "displayName": "Jun Yuan",
      "userId": "07829413783992522382"
     },
     "user_tz": -480
    },
    "id": "KVmdWDR0a-WO",
    "outputId": "5bece66b-d08f-4791-d314-f73179e0b37e"
   },
   "outputs": [
    {
     "name": "stderr",
     "output_type": "stream",
     "text": [
      "'kaggle' is not recognized as an internal or external command,\n",
      "operable program or batch file.\n",
      "'unzip' is not recognized as an internal or external command,\n",
      "operable program or batch file.\n"
     ]
    }
   ],
   "source": [
    "! kaggle datasets download -d borismarjanovic/price-volume-data-for-all-us-stocks-etfs\n",
    "! unzip -n price-volume-data-for-all-us-stocks-etfs.zip"
   ]
  },
  {
   "cell_type": "code",
   "execution_count": 2,
   "metadata": {
    "executionInfo": {
     "elapsed": 7,
     "status": "ok",
     "timestamp": 1726839409420,
     "user": {
      "displayName": "Jun Yuan",
      "userId": "07829413783992522382"
     },
     "user_tz": -480
    },
    "id": "AH_l72UwaGZh"
   },
   "outputs": [],
   "source": [
    "df = pd.read_table(\"ETFs/aadr.us.txt\", sep = \",\")"
   ]
  },
  {
   "cell_type": "code",
   "execution_count": 3,
   "metadata": {
    "colab": {
     "base_uri": "https://localhost:8080/",
     "height": 753
    },
    "collapsed": true,
    "executionInfo": {
     "elapsed": 334,
     "status": "ok",
     "timestamp": 1726839411148,
     "user": {
      "displayName": "Jun Yuan",
      "userId": "07829413783992522382"
     },
     "user_tz": -480
    },
    "id": "G00FSwGHcDI2",
    "outputId": "4363cf90-da95-4cbe-c067-e14a8139c521"
   },
   "outputs": [
    {
     "name": "stdout",
     "output_type": "stream",
     "text": [
      "              Open         High          Low        Close         Volume  \\\n",
      "count  1565.000000  1565.000000  1565.000000  1565.000000    1565.000000   \n",
      "mean     36.014550    36.137120    35.855319    35.987517    6452.979553   \n",
      "std       6.957747     7.002548     6.878264     6.933814   12047.101114   \n",
      "min      23.936000    23.946000    23.867000    23.946000       2.000000   \n",
      "25%      29.829000    29.966000    29.819000    29.862000     529.000000   \n",
      "50%      36.512000    36.571000    36.322000    36.464000    1559.000000   \n",
      "75%      38.957000    39.123000    38.787000    38.838000    5993.000000   \n",
      "max      58.620000    58.720000    57.700000    58.430000  106139.000000   \n",
      "\n",
      "       OpenInt  \n",
      "count   1565.0  \n",
      "mean       0.0  \n",
      "std        0.0  \n",
      "min        0.0  \n",
      "25%        0.0  \n",
      "50%        0.0  \n",
      "75%        0.0  \n",
      "max        0.0  \n"
     ]
    },
    {
     "data": {
      "application/vnd.google.colaboratory.intrinsic+json": {
       "summary": "{\n  \"name\": \"df\",\n  \"rows\": 1565,\n  \"fields\": [\n    {\n      \"column\": \"Date\",\n      \"properties\": {\n        \"dtype\": \"object\",\n        \"num_unique_values\": 1565,\n        \"samples\": [\n          \"2013-05-21\",\n          \"2011-10-13\",\n          \"2017-03-23\"\n        ],\n        \"semantic_type\": \"\",\n        \"description\": \"\"\n      }\n    },\n    {\n      \"column\": \"Open\",\n      \"properties\": {\n        \"dtype\": \"number\",\n        \"std\": 6.957746952361992,\n        \"min\": 23.936,\n        \"max\": 58.62,\n        \"num_unique_values\": 1273,\n        \"samples\": [\n          27.397,\n          46.99,\n          29.103\n        ],\n        \"semantic_type\": \"\",\n        \"description\": \"\"\n      }\n    },\n    {\n      \"column\": \"High\",\n      \"properties\": {\n        \"dtype\": \"number\",\n        \"std\": 7.002547881920333,\n        \"min\": 23.946,\n        \"max\": 58.72,\n        \"num_unique_values\": 1296,\n        \"samples\": [\n          38.449,\n          32.146,\n          39.584\n        ],\n        \"semantic_type\": \"\",\n        \"description\": \"\"\n      }\n    },\n    {\n      \"column\": \"Low\",\n      \"properties\": {\n        \"dtype\": \"number\",\n        \"std\": 6.878263634785356,\n        \"min\": 23.867,\n        \"max\": 57.7,\n        \"num_unique_values\": 1280,\n        \"samples\": [\n          54.788,\n          36.482,\n          37.137\n        ],\n        \"semantic_type\": \"\",\n        \"description\": \"\"\n      }\n    },\n    {\n      \"column\": \"Close\",\n      \"properties\": {\n        \"dtype\": \"number\",\n        \"std\": 6.933813920617956,\n        \"min\": 23.946,\n        \"max\": 58.43,\n        \"num_unique_values\": 1256,\n        \"samples\": [\n          34.662,\n          28.763,\n          27.649\n        ],\n        \"semantic_type\": \"\",\n        \"description\": \"\"\n      }\n    },\n    {\n      \"column\": \"Volume\",\n      \"properties\": {\n        \"dtype\": \"number\",\n        \"std\": 12047,\n        \"min\": 2,\n        \"max\": 106139,\n        \"num_unique_values\": 1185,\n        \"samples\": [\n          163,\n          2876,\n          50935\n        ],\n        \"semantic_type\": \"\",\n        \"description\": \"\"\n      }\n    },\n    {\n      \"column\": \"OpenInt\",\n      \"properties\": {\n        \"dtype\": \"number\",\n        \"std\": 0,\n        \"min\": 0,\n        \"max\": 0,\n        \"num_unique_values\": 1,\n        \"samples\": [\n          0\n        ],\n        \"semantic_type\": \"\",\n        \"description\": \"\"\n      }\n    }\n  ]\n}",
       "type": "dataframe",
       "variable_name": "df"
      },
      "text/html": [
       "\n",
       "  <div id=\"df-5c38a88b-bff5-48b7-a32d-55e924c6478b\" class=\"colab-df-container\">\n",
       "    <div>\n",
       "<style scoped>\n",
       "    .dataframe tbody tr th:only-of-type {\n",
       "        vertical-align: middle;\n",
       "    }\n",
       "\n",
       "    .dataframe tbody tr th {\n",
       "        vertical-align: top;\n",
       "    }\n",
       "\n",
       "    .dataframe thead th {\n",
       "        text-align: right;\n",
       "    }\n",
       "</style>\n",
       "<table border=\"1\" class=\"dataframe\">\n",
       "  <thead>\n",
       "    <tr style=\"text-align: right;\">\n",
       "      <th></th>\n",
       "      <th>Date</th>\n",
       "      <th>Open</th>\n",
       "      <th>High</th>\n",
       "      <th>Low</th>\n",
       "      <th>Close</th>\n",
       "      <th>Volume</th>\n",
       "      <th>OpenInt</th>\n",
       "    </tr>\n",
       "  </thead>\n",
       "  <tbody>\n",
       "    <tr>\n",
       "      <th>0</th>\n",
       "      <td>2010-07-21</td>\n",
       "      <td>24.333</td>\n",
       "      <td>24.3330</td>\n",
       "      <td>23.9460</td>\n",
       "      <td>23.9460</td>\n",
       "      <td>43321</td>\n",
       "      <td>0</td>\n",
       "    </tr>\n",
       "    <tr>\n",
       "      <th>1</th>\n",
       "      <td>2010-07-22</td>\n",
       "      <td>24.644</td>\n",
       "      <td>24.6440</td>\n",
       "      <td>24.3620</td>\n",
       "      <td>24.4870</td>\n",
       "      <td>18031</td>\n",
       "      <td>0</td>\n",
       "    </tr>\n",
       "    <tr>\n",
       "      <th>2</th>\n",
       "      <td>2010-07-23</td>\n",
       "      <td>24.759</td>\n",
       "      <td>24.7590</td>\n",
       "      <td>24.3140</td>\n",
       "      <td>24.5070</td>\n",
       "      <td>8897</td>\n",
       "      <td>0</td>\n",
       "    </tr>\n",
       "    <tr>\n",
       "      <th>3</th>\n",
       "      <td>2010-07-26</td>\n",
       "      <td>24.624</td>\n",
       "      <td>24.6240</td>\n",
       "      <td>24.4490</td>\n",
       "      <td>24.5950</td>\n",
       "      <td>19443</td>\n",
       "      <td>0</td>\n",
       "    </tr>\n",
       "    <tr>\n",
       "      <th>4</th>\n",
       "      <td>2010-07-27</td>\n",
       "      <td>24.477</td>\n",
       "      <td>24.5170</td>\n",
       "      <td>24.4310</td>\n",
       "      <td>24.5170</td>\n",
       "      <td>8456</td>\n",
       "      <td>0</td>\n",
       "    </tr>\n",
       "    <tr>\n",
       "      <th>...</th>\n",
       "      <td>...</td>\n",
       "      <td>...</td>\n",
       "      <td>...</td>\n",
       "      <td>...</td>\n",
       "      <td>...</td>\n",
       "      <td>...</td>\n",
       "      <td>...</td>\n",
       "    </tr>\n",
       "    <tr>\n",
       "      <th>1560</th>\n",
       "      <td>2017-11-06</td>\n",
       "      <td>57.610</td>\n",
       "      <td>57.7372</td>\n",
       "      <td>57.2285</td>\n",
       "      <td>57.6500</td>\n",
       "      <td>41601</td>\n",
       "      <td>0</td>\n",
       "    </tr>\n",
       "    <tr>\n",
       "      <th>1561</th>\n",
       "      <td>2017-11-07</td>\n",
       "      <td>57.290</td>\n",
       "      <td>57.3460</td>\n",
       "      <td>57.1446</td>\n",
       "      <td>57.2850</td>\n",
       "      <td>50935</td>\n",
       "      <td>0</td>\n",
       "    </tr>\n",
       "    <tr>\n",
       "      <th>1562</th>\n",
       "      <td>2017-11-08</td>\n",
       "      <td>57.310</td>\n",
       "      <td>57.5500</td>\n",
       "      <td>57.2200</td>\n",
       "      <td>57.4900</td>\n",
       "      <td>71770</td>\n",
       "      <td>0</td>\n",
       "    </tr>\n",
       "    <tr>\n",
       "      <th>1563</th>\n",
       "      <td>2017-11-09</td>\n",
       "      <td>57.230</td>\n",
       "      <td>57.2300</td>\n",
       "      <td>56.7100</td>\n",
       "      <td>56.9265</td>\n",
       "      <td>53130</td>\n",
       "      <td>0</td>\n",
       "    </tr>\n",
       "    <tr>\n",
       "      <th>1564</th>\n",
       "      <td>2017-11-10</td>\n",
       "      <td>56.960</td>\n",
       "      <td>56.9600</td>\n",
       "      <td>56.3909</td>\n",
       "      <td>56.4000</td>\n",
       "      <td>29233</td>\n",
       "      <td>0</td>\n",
       "    </tr>\n",
       "  </tbody>\n",
       "</table>\n",
       "<p>1565 rows × 7 columns</p>\n",
       "</div>\n",
       "    <div class=\"colab-df-buttons\">\n",
       "\n",
       "  <div class=\"colab-df-container\">\n",
       "    <button class=\"colab-df-convert\" onclick=\"convertToInteractive('df-5c38a88b-bff5-48b7-a32d-55e924c6478b')\"\n",
       "            title=\"Convert this dataframe to an interactive table.\"\n",
       "            style=\"display:none;\">\n",
       "\n",
       "  <svg xmlns=\"http://www.w3.org/2000/svg\" height=\"24px\" viewBox=\"0 -960 960 960\">\n",
       "    <path d=\"M120-120v-720h720v720H120Zm60-500h600v-160H180v160Zm220 220h160v-160H400v160Zm0 220h160v-160H400v160ZM180-400h160v-160H180v160Zm440 0h160v-160H620v160ZM180-180h160v-160H180v160Zm440 0h160v-160H620v160Z\"/>\n",
       "  </svg>\n",
       "    </button>\n",
       "\n",
       "  <style>\n",
       "    .colab-df-container {\n",
       "      display:flex;\n",
       "      gap: 12px;\n",
       "    }\n",
       "\n",
       "    .colab-df-convert {\n",
       "      background-color: #E8F0FE;\n",
       "      border: none;\n",
       "      border-radius: 50%;\n",
       "      cursor: pointer;\n",
       "      display: none;\n",
       "      fill: #1967D2;\n",
       "      height: 32px;\n",
       "      padding: 0 0 0 0;\n",
       "      width: 32px;\n",
       "    }\n",
       "\n",
       "    .colab-df-convert:hover {\n",
       "      background-color: #E2EBFA;\n",
       "      box-shadow: 0px 1px 2px rgba(60, 64, 67, 0.3), 0px 1px 3px 1px rgba(60, 64, 67, 0.15);\n",
       "      fill: #174EA6;\n",
       "    }\n",
       "\n",
       "    .colab-df-buttons div {\n",
       "      margin-bottom: 4px;\n",
       "    }\n",
       "\n",
       "    [theme=dark] .colab-df-convert {\n",
       "      background-color: #3B4455;\n",
       "      fill: #D2E3FC;\n",
       "    }\n",
       "\n",
       "    [theme=dark] .colab-df-convert:hover {\n",
       "      background-color: #434B5C;\n",
       "      box-shadow: 0px 1px 3px 1px rgba(0, 0, 0, 0.15);\n",
       "      filter: drop-shadow(0px 1px 2px rgba(0, 0, 0, 0.3));\n",
       "      fill: #FFFFFF;\n",
       "    }\n",
       "  </style>\n",
       "\n",
       "    <script>\n",
       "      const buttonEl =\n",
       "        document.querySelector('#df-5c38a88b-bff5-48b7-a32d-55e924c6478b button.colab-df-convert');\n",
       "      buttonEl.style.display =\n",
       "        google.colab.kernel.accessAllowed ? 'block' : 'none';\n",
       "\n",
       "      async function convertToInteractive(key) {\n",
       "        const element = document.querySelector('#df-5c38a88b-bff5-48b7-a32d-55e924c6478b');\n",
       "        const dataTable =\n",
       "          await google.colab.kernel.invokeFunction('convertToInteractive',\n",
       "                                                    [key], {});\n",
       "        if (!dataTable) return;\n",
       "\n",
       "        const docLinkHtml = 'Like what you see? Visit the ' +\n",
       "          '<a target=\"_blank\" href=https://colab.research.google.com/notebooks/data_table.ipynb>data table notebook</a>'\n",
       "          + ' to learn more about interactive tables.';\n",
       "        element.innerHTML = '';\n",
       "        dataTable['output_type'] = 'display_data';\n",
       "        await google.colab.output.renderOutput(dataTable, element);\n",
       "        const docLink = document.createElement('div');\n",
       "        docLink.innerHTML = docLinkHtml;\n",
       "        element.appendChild(docLink);\n",
       "      }\n",
       "    </script>\n",
       "  </div>\n",
       "\n",
       "\n",
       "<div id=\"df-b57063c8-1285-450a-a231-cdc4ed443cf0\">\n",
       "  <button class=\"colab-df-quickchart\" onclick=\"quickchart('df-b57063c8-1285-450a-a231-cdc4ed443cf0')\"\n",
       "            title=\"Suggest charts\"\n",
       "            style=\"display:none;\">\n",
       "\n",
       "<svg xmlns=\"http://www.w3.org/2000/svg\" height=\"24px\"viewBox=\"0 0 24 24\"\n",
       "     width=\"24px\">\n",
       "    <g>\n",
       "        <path d=\"M19 3H5c-1.1 0-2 .9-2 2v14c0 1.1.9 2 2 2h14c1.1 0 2-.9 2-2V5c0-1.1-.9-2-2-2zM9 17H7v-7h2v7zm4 0h-2V7h2v10zm4 0h-2v-4h2v4z\"/>\n",
       "    </g>\n",
       "</svg>\n",
       "  </button>\n",
       "\n",
       "<style>\n",
       "  .colab-df-quickchart {\n",
       "      --bg-color: #E8F0FE;\n",
       "      --fill-color: #1967D2;\n",
       "      --hover-bg-color: #E2EBFA;\n",
       "      --hover-fill-color: #174EA6;\n",
       "      --disabled-fill-color: #AAA;\n",
       "      --disabled-bg-color: #DDD;\n",
       "  }\n",
       "\n",
       "  [theme=dark] .colab-df-quickchart {\n",
       "      --bg-color: #3B4455;\n",
       "      --fill-color: #D2E3FC;\n",
       "      --hover-bg-color: #434B5C;\n",
       "      --hover-fill-color: #FFFFFF;\n",
       "      --disabled-bg-color: #3B4455;\n",
       "      --disabled-fill-color: #666;\n",
       "  }\n",
       "\n",
       "  .colab-df-quickchart {\n",
       "    background-color: var(--bg-color);\n",
       "    border: none;\n",
       "    border-radius: 50%;\n",
       "    cursor: pointer;\n",
       "    display: none;\n",
       "    fill: var(--fill-color);\n",
       "    height: 32px;\n",
       "    padding: 0;\n",
       "    width: 32px;\n",
       "  }\n",
       "\n",
       "  .colab-df-quickchart:hover {\n",
       "    background-color: var(--hover-bg-color);\n",
       "    box-shadow: 0 1px 2px rgba(60, 64, 67, 0.3), 0 1px 3px 1px rgba(60, 64, 67, 0.15);\n",
       "    fill: var(--button-hover-fill-color);\n",
       "  }\n",
       "\n",
       "  .colab-df-quickchart-complete:disabled,\n",
       "  .colab-df-quickchart-complete:disabled:hover {\n",
       "    background-color: var(--disabled-bg-color);\n",
       "    fill: var(--disabled-fill-color);\n",
       "    box-shadow: none;\n",
       "  }\n",
       "\n",
       "  .colab-df-spinner {\n",
       "    border: 2px solid var(--fill-color);\n",
       "    border-color: transparent;\n",
       "    border-bottom-color: var(--fill-color);\n",
       "    animation:\n",
       "      spin 1s steps(1) infinite;\n",
       "  }\n",
       "\n",
       "  @keyframes spin {\n",
       "    0% {\n",
       "      border-color: transparent;\n",
       "      border-bottom-color: var(--fill-color);\n",
       "      border-left-color: var(--fill-color);\n",
       "    }\n",
       "    20% {\n",
       "      border-color: transparent;\n",
       "      border-left-color: var(--fill-color);\n",
       "      border-top-color: var(--fill-color);\n",
       "    }\n",
       "    30% {\n",
       "      border-color: transparent;\n",
       "      border-left-color: var(--fill-color);\n",
       "      border-top-color: var(--fill-color);\n",
       "      border-right-color: var(--fill-color);\n",
       "    }\n",
       "    40% {\n",
       "      border-color: transparent;\n",
       "      border-right-color: var(--fill-color);\n",
       "      border-top-color: var(--fill-color);\n",
       "    }\n",
       "    60% {\n",
       "      border-color: transparent;\n",
       "      border-right-color: var(--fill-color);\n",
       "    }\n",
       "    80% {\n",
       "      border-color: transparent;\n",
       "      border-right-color: var(--fill-color);\n",
       "      border-bottom-color: var(--fill-color);\n",
       "    }\n",
       "    90% {\n",
       "      border-color: transparent;\n",
       "      border-bottom-color: var(--fill-color);\n",
       "    }\n",
       "  }\n",
       "</style>\n",
       "\n",
       "  <script>\n",
       "    async function quickchart(key) {\n",
       "      const quickchartButtonEl =\n",
       "        document.querySelector('#' + key + ' button');\n",
       "      quickchartButtonEl.disabled = true;  // To prevent multiple clicks.\n",
       "      quickchartButtonEl.classList.add('colab-df-spinner');\n",
       "      try {\n",
       "        const charts = await google.colab.kernel.invokeFunction(\n",
       "            'suggestCharts', [key], {});\n",
       "      } catch (error) {\n",
       "        console.error('Error during call to suggestCharts:', error);\n",
       "      }\n",
       "      quickchartButtonEl.classList.remove('colab-df-spinner');\n",
       "      quickchartButtonEl.classList.add('colab-df-quickchart-complete');\n",
       "    }\n",
       "    (() => {\n",
       "      let quickchartButtonEl =\n",
       "        document.querySelector('#df-b57063c8-1285-450a-a231-cdc4ed443cf0 button');\n",
       "      quickchartButtonEl.style.display =\n",
       "        google.colab.kernel.accessAllowed ? 'block' : 'none';\n",
       "    })();\n",
       "  </script>\n",
       "</div>\n",
       "\n",
       "  <div id=\"id_2746a07f-ec95-48eb-b878-445837f1e64b\">\n",
       "    <style>\n",
       "      .colab-df-generate {\n",
       "        background-color: #E8F0FE;\n",
       "        border: none;\n",
       "        border-radius: 50%;\n",
       "        cursor: pointer;\n",
       "        display: none;\n",
       "        fill: #1967D2;\n",
       "        height: 32px;\n",
       "        padding: 0 0 0 0;\n",
       "        width: 32px;\n",
       "      }\n",
       "\n",
       "      .colab-df-generate:hover {\n",
       "        background-color: #E2EBFA;\n",
       "        box-shadow: 0px 1px 2px rgba(60, 64, 67, 0.3), 0px 1px 3px 1px rgba(60, 64, 67, 0.15);\n",
       "        fill: #174EA6;\n",
       "      }\n",
       "\n",
       "      [theme=dark] .colab-df-generate {\n",
       "        background-color: #3B4455;\n",
       "        fill: #D2E3FC;\n",
       "      }\n",
       "\n",
       "      [theme=dark] .colab-df-generate:hover {\n",
       "        background-color: #434B5C;\n",
       "        box-shadow: 0px 1px 3px 1px rgba(0, 0, 0, 0.15);\n",
       "        filter: drop-shadow(0px 1px 2px rgba(0, 0, 0, 0.3));\n",
       "        fill: #FFFFFF;\n",
       "      }\n",
       "    </style>\n",
       "    <button class=\"colab-df-generate\" onclick=\"generateWithVariable('df')\"\n",
       "            title=\"Generate code using this dataframe.\"\n",
       "            style=\"display:none;\">\n",
       "\n",
       "  <svg xmlns=\"http://www.w3.org/2000/svg\" height=\"24px\"viewBox=\"0 0 24 24\"\n",
       "       width=\"24px\">\n",
       "    <path d=\"M7,19H8.4L18.45,9,17,7.55,7,17.6ZM5,21V16.75L18.45,3.32a2,2,0,0,1,2.83,0l1.4,1.43a1.91,1.91,0,0,1,.58,1.4,1.91,1.91,0,0,1-.58,1.4L9.25,21ZM18.45,9,17,7.55Zm-12,3A5.31,5.31,0,0,0,4.9,8.1,5.31,5.31,0,0,0,1,6.5,5.31,5.31,0,0,0,4.9,4.9,5.31,5.31,0,0,0,6.5,1,5.31,5.31,0,0,0,8.1,4.9,5.31,5.31,0,0,0,12,6.5,5.46,5.46,0,0,0,6.5,12Z\"/>\n",
       "  </svg>\n",
       "    </button>\n",
       "    <script>\n",
       "      (() => {\n",
       "      const buttonEl =\n",
       "        document.querySelector('#id_2746a07f-ec95-48eb-b878-445837f1e64b button.colab-df-generate');\n",
       "      buttonEl.style.display =\n",
       "        google.colab.kernel.accessAllowed ? 'block' : 'none';\n",
       "\n",
       "      buttonEl.onclick = () => {\n",
       "        google.colab.notebook.generateWithVariable('df');\n",
       "      }\n",
       "      })();\n",
       "    </script>\n",
       "  </div>\n",
       "\n",
       "    </div>\n",
       "  </div>\n"
      ],
      "text/plain": [
       "            Date    Open     High      Low    Close  Volume  OpenInt\n",
       "0     2010-07-21  24.333  24.3330  23.9460  23.9460   43321        0\n",
       "1     2010-07-22  24.644  24.6440  24.3620  24.4870   18031        0\n",
       "2     2010-07-23  24.759  24.7590  24.3140  24.5070    8897        0\n",
       "3     2010-07-26  24.624  24.6240  24.4490  24.5950   19443        0\n",
       "4     2010-07-27  24.477  24.5170  24.4310  24.5170    8456        0\n",
       "...          ...     ...      ...      ...      ...     ...      ...\n",
       "1560  2017-11-06  57.610  57.7372  57.2285  57.6500   41601        0\n",
       "1561  2017-11-07  57.290  57.3460  57.1446  57.2850   50935        0\n",
       "1562  2017-11-08  57.310  57.5500  57.2200  57.4900   71770        0\n",
       "1563  2017-11-09  57.230  57.2300  56.7100  56.9265   53130        0\n",
       "1564  2017-11-10  56.960  56.9600  56.3909  56.4000   29233        0\n",
       "\n",
       "[1565 rows x 7 columns]"
      ]
     },
     "execution_count": 3,
     "metadata": {},
     "output_type": "execute_result"
    }
   ],
   "source": [
    "print(df.describe())\n",
    "df"
   ]
  },
  {
   "cell_type": "code",
   "execution_count": 8,
   "metadata": {
    "executionInfo": {
     "elapsed": 6047,
     "status": "ok",
     "timestamp": 1726839665377,
     "user": {
      "displayName": "Jun Yuan",
      "userId": "07829413783992522382"
     },
     "user_tz": -480
    },
    "id": "2EkklQx2fPvX"
   },
   "outputs": [],
   "source": [
    "files_with_na = []\n",
    "for file in os.listdir(\"/content/ETFs\"):\n",
    "    df = pd.read_table(f'/content/ETFs/{file}', sep = \",\")\n",
    "    na_count = df.isnull().any()\n",
    "    if sum(na_count) > 0:\n",
    "      files_with_na.append(file)"
   ]
  },
  {
   "cell_type": "code",
   "execution_count": 11,
   "metadata": {
    "colab": {
     "base_uri": "https://localhost:8080/"
    },
    "executionInfo": {
     "elapsed": 43774,
     "status": "ok",
     "timestamp": 1726839788786,
     "user": {
      "displayName": "Jun Yuan",
      "userId": "07829413783992522382"
     },
     "user_tz": -480
    },
    "id": "nnXj-qWigLF7",
    "outputId": "fde429ce-0642-4578-8285-53848b4ca779"
   },
   "outputs": [
    {
     "name": "stdout",
     "output_type": "stream",
     "text": [
      "Problem reading file: bolt.us.txt\n",
      "Problem reading file: sbt.us.txt\n",
      "Problem reading file: fmax.us.txt\n",
      "Problem reading file: molc.us.txt\n",
      "Problem reading file: scci.us.txt\n",
      "Problem reading file: srva.us.txt\n",
      "Problem reading file: bxg.us.txt\n",
      "Problem reading file: scph.us.txt\n",
      "Problem reading file: boxl.us.txt\n",
      "Problem reading file: pxus.us.txt\n",
      "Problem reading file: ehr.us.txt\n",
      "Problem reading file: sail.us.txt\n",
      "Problem reading file: bbrx.us.txt\n",
      "Problem reading file: gnst.us.txt\n",
      "Problem reading file: stnl.us.txt\n",
      "Problem reading file: jt.us.txt\n",
      "Problem reading file: wnfm.us.txt\n",
      "Problem reading file: amrhw.us.txt\n",
      "Problem reading file: vmet.us.txt\n",
      "Problem reading file: amrh.us.txt\n",
      "Problem reading file: sfix.us.txt\n",
      "Problem reading file: hayu.us.txt\n",
      "Problem reading file: asns.us.txt\n",
      "Problem reading file: mapi.us.txt\n",
      "Problem reading file: znwaa.us.txt\n",
      "Problem reading file: wspt.us.txt\n",
      "Problem reading file: pbio.us.txt\n",
      "Problem reading file: accp.us.txt\n",
      "Problem reading file: send.us.txt\n",
      "Problem reading file: vist.us.txt\n",
      "Problem reading file: rbio.us.txt\n",
      "Problem reading file: otg.us.txt\n"
     ]
    }
   ],
   "source": [
    "for file in os.listdir(\"/content/Stocks\"):\n",
    "    try:\n",
    "      df = pd.read_table(f'/content/Stocks/{file}', sep = \",\")\n",
    "      na_count = df.isnull().any()\n",
    "      if sum(na_count) > 0:\n",
    "        files_with_na.append(file)\n",
    "    except:\n",
    "      print(f\"Problem reading file: {file}\")\n",
    "# Turns out these files that can't be read are actually blank"
   ]
  },
  {
   "cell_type": "code",
   "execution_count": 13,
   "metadata": {
    "executionInfo": {
     "elapsed": 335,
     "status": "ok",
     "timestamp": 1726840379379,
     "user": {
      "displayName": "Jun Yuan",
      "userId": "07829413783992522382"
     },
     "user_tz": -480
    },
    "id": "rgtx-g9Bqk3p"
   },
   "outputs": [],
   "source": [
    "a = pd.read_table(\"Stocks/a.us.txt\", sep = \",\")"
   ]
  },
  {
   "cell_type": "code",
   "execution_count": 17,
   "metadata": {
    "executionInfo": {
     "elapsed": 2053,
     "status": "ok",
     "timestamp": 1726840598953,
     "user": {
      "displayName": "Jun Yuan",
      "userId": "07829413783992522382"
     },
     "user_tz": -480
    },
    "id": "lZat1byvrhac"
   },
   "outputs": [],
   "source": [
    "weekday = {}\n",
    "for date in a[\"Date\"]:\n",
    "    wd = pd.to_datetime(date).weekday()\n",
    "    weekday[wd] = weekday.get(wd, 0) + 1"
   ]
  },
  {
   "cell_type": "code",
   "execution_count": 18,
   "metadata": {
    "colab": {
     "base_uri": "https://localhost:8080/"
    },
    "executionInfo": {
     "elapsed": 314,
     "status": "ok",
     "timestamp": 1726840600388,
     "user": {
      "displayName": "Jun Yuan",
      "userId": "07829413783992522382"
     },
     "user_tz": -480
    },
    "id": "TsdzdbaPtR4t",
    "outputId": "75bbf942-6d78-4af4-dc80-81e981d68f0f"
   },
   "outputs": [
    {
     "name": "stdout",
     "output_type": "stream",
     "text": [
      "{3: 911, 4: 907, 0: 848, 1: 926, 2: 929}\n"
     ]
    }
   ],
   "source": [
    "print(weekday)"
   ]
  },
  {
   "cell_type": "code",
   "execution_count": 24,
   "metadata": {
    "executionInfo": {
     "elapsed": 6820,
     "status": "ok",
     "timestamp": 1726841270301,
     "user": {
      "displayName": "Jun Yuan",
      "userId": "07829413783992522382"
     },
     "user_tz": -480
    },
    "id": "Eo_FJOTWt9UB"
   },
   "outputs": [],
   "source": [
    "start_year = {}\n",
    "for file in os.listdir(\"/content/ETFs\"):\n",
    "    df = pd.read_table(f'/content/ETFs/{file}', sep = \",\")\n",
    "    date = datetime.strptime(df[\"Date\"][0], \"%Y-%m-%d\").year\n",
    "    start_year[date] = start_year.get(date, 0) + 1"
   ]
  },
  {
   "cell_type": "code",
   "execution_count": 25,
   "metadata": {
    "colab": {
     "base_uri": "https://localhost:8080/"
    },
    "executionInfo": {
     "elapsed": 430,
     "status": "ok",
     "timestamp": 1726841274308,
     "user": {
      "displayName": "Jun Yuan",
      "userId": "07829413783992522382"
     },
     "user_tz": -480
    },
    "id": "QwszNfDHvOhz",
    "outputId": "3cab5d5c-5e98-42e0-9007-778fe45912cb"
   },
   "outputs": [
    {
     "data": {
      "text/plain": [
       "{2013: 122,\n",
       " 2007: 175,\n",
       " 2008: 102,\n",
       " 2009: 87,\n",
       " 2010: 107,\n",
       " 2005: 193,\n",
       " 2006: 113,\n",
       " 2012: 92,\n",
       " 2011: 141,\n",
       " 2014: 117,\n",
       " 2015: 57,\n",
       " 1999: 1,\n",
       " 2017: 23,\n",
       " 2016: 14}"
      ]
     },
     "execution_count": 25,
     "metadata": {},
     "output_type": "execute_result"
    }
   ],
   "source": [
    "start_year"
   ]
  },
  {
   "cell_type": "code",
   "execution_count": null,
   "metadata": {
    "id": "g3mTk1MivPvM"
   },
   "outputs": [],
   "source": []
  }
 ],
 "metadata": {
  "colab": {
   "authorship_tag": "ABX9TyMbE+ij8ntfR7SxOD9s/esZ",
   "provenance": []
  },
  "kernelspec": {
   "display_name": "Python 3 (ipykernel)",
   "language": "python",
   "name": "python3"
  },
  "language_info": {
   "codemirror_mode": {
    "name": "ipython",
    "version": 3
   },
   "file_extension": ".py",
   "mimetype": "text/x-python",
   "name": "python",
   "nbconvert_exporter": "python",
   "pygments_lexer": "ipython3",
   "version": "3.12.3"
  }
 },
 "nbformat": 4,
 "nbformat_minor": 1
}
